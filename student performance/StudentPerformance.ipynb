{
 "cells": [
  {
   "cell_type": "code",
   "execution_count": 31,
   "metadata": {},
   "outputs": [
    {
     "name": "stdout",
     "output_type": "stream",
     "text": [
      "0.8261206175634555\n",
      "Coefficient: \n",
      " [ 0.13545499  0.98219951 -0.21439869 -0.37307925  0.03375268]\n",
      "Intercept: \n",
      " -1.2273874991050402\n",
      "6.031941629739663 [6 7 2 0 0] 0\n",
      "11.923521261961344 [14 12  2  1  8] 12\n",
      "4.754478773965707 [ 6  5  1  0 14] 5\n",
      "7.285051118945059 [8 8 2 0 0] 0\n",
      "9.305517147344064 [ 9 10  3  0  4] 10\n",
      "12.025246243620726 [11 12  2  0 12] 11\n",
      "11.405371153692295 [10 12  3  0  4] 12\n",
      "6.367885156126454 [ 7  8  2  3 10] 10\n",
      "11.167746897755098 [11 12  3  1  4] 11\n",
      "11.947635400032672 [15 12  3  0  0] 14\n",
      "13.832646437744158 [15 14  4  0  4] 14\n",
      "8.796743681534599 [11  9  3  0 10] 10\n",
      "-0.9223986194317483 [7 0 3 0 0] 0\n",
      "15.244087599257709 [16 15  2  0  0] 15\n",
      "12.296395453493 [10 13  2  1  6] 13\n",
      "11.360624419697965 [12 12  4  0  1] 12\n",
      "9.14615307367828 [11  9  2  0 14] 9\n",
      "15.040682971431279 [14 15  2  0  2] 15\n",
      "5.453635285435007 [8 7 2 3 8] 8\n",
      "15.108632608570188 [15 15  2  0  0] 15\n",
      "14.905227980743758 [13 15  2  0  2] 16\n",
      "14.193938454288448 [15 14  2  0  2] 14\n",
      "8.650412695693403 [8 9 1 0 5] 9\n",
      "18.190686122748772 [16 18  2  0  0] 18\n",
      "4.202553321176183 [6 5 2 0 4] 6\n",
      "5.952997935380732 [7 7 3 0 0] 8\n",
      "7.972875846012396 [10  8  1  0  6] 11\n",
      "14.973177617882664 [14 15  2  0  0] 15\n",
      "11.428247835312929 [ 8 12  1  0  0] 12\n",
      "8.37962388074924 [ 7 10  4  1  2] 10\n",
      "14.973177617882664 [14 15  2  0  0] 15\n",
      "10.681850113566263 [11 11  1  1  6] 10\n",
      "-0.30163496232273246 [10  0  2  0  0] 0\n",
      "13.076283955770574 [14 13  2  0  2] 13\n",
      "9.868880940943907 [ 8 10  1  0 12] 10\n",
      "14.848716684415168 [11 15  1  0  2] 15\n",
      "13.911590132103088 [14 14  3  0  4] 14\n",
      "10.220211301625804 [ 9 11  3  0  2] 11\n",
      "3.480064682407783 [6 5 3 1 0] 0\n",
      "11.834612807375493 [11 12  1  0  0] 10\n"
     ]
    }
   ],
   "source": [
    "import pandas as pd\n",
    "import numpy as np\n",
    "import sklearn\n",
    "from sklearn import linear_model\n",
    "from sklearn.utils import shuffle\n",
    "\n",
    "data = pd.read_csv(\"D:\\ml\\student dataset\\student-mat.csv\", sep=\";\")\n",
    "# Since our data is seperated by semicolons we need to do sep=\";\"\n",
    "\n",
    "data = data[[\"G1\", \"G2\", \"G3\", \"studytime\", \"failures\", \"absences\"]]\n",
    "\n",
    "# Variable to be predicted is \"G3\" -> total overall score\n",
    "predict = \"G3\"\n",
    "\n",
    "X = np.array(data.drop([predict], 1))\n",
    "y = np.array(data[predict])\n",
    "\n",
    "x_train, x_test, y_train, y_test = sklearn.model_selection.train_test_split(X, y, test_size=0.1)\n",
    "\n",
    "linear = linear_model.LinearRegression()\n",
    "\n",
    "linear.fit(x_train, y_train)\n",
    "acc = linear.score(x_test, y_test) # acc stands for accuracy \n",
    "print(acc)\n",
    "\n",
    "print('Coefficient: \\n', linear.coef_) # These are each slope value\n",
    "print('Intercept: \\n', linear.intercept_) # This is the intercept\n",
    "\n",
    "predictions = linear.predict(x_test)\n",
    "\n",
    "for x in range(len(predictions)):\n",
    "    print(predictions[x], x_test[x], y_test[x])"
   ]
  },
  {
   "cell_type": "code",
   "execution_count": null,
   "metadata": {},
   "outputs": [],
   "source": []
  },
  {
   "cell_type": "code",
   "execution_count": null,
   "metadata": {},
   "outputs": [],
   "source": []
  },
  {
   "cell_type": "code",
   "execution_count": null,
   "metadata": {},
   "outputs": [],
   "source": []
  }
 ],
 "metadata": {
  "kernelspec": {
   "display_name": "Python 3",
   "language": "python",
   "name": "python3"
  },
  "language_info": {
   "codemirror_mode": {
    "name": "ipython",
    "version": 3
   },
   "file_extension": ".py",
   "mimetype": "text/x-python",
   "name": "python",
   "nbconvert_exporter": "python",
   "pygments_lexer": "ipython3",
   "version": "3.8.3"
  }
 },
 "nbformat": 4,
 "nbformat_minor": 4
}
